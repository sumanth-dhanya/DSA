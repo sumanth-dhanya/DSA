{
 "cells": [
  {
   "cell_type": "code",
   "id": "initial_id",
   "metadata": {
    "collapsed": true,
    "ExecuteTime": {
     "end_time": "2025-09-14T06:35:53.842805Z",
     "start_time": "2025-09-14T06:35:53.835791Z"
    }
   },
   "source": [
    "s = \"abcabds\"\n",
    "s = \"abcba\"\n",
    "\n",
    "l=r = 0\n",
    "max_len = 0\n",
    "hash_set = set()\n",
    "len_s = len(s)\n",
    "\n",
    "window_count = [0]*26\n",
    "\n",
    "while r<len_s:\n",
    "\n",
    "    while s[r] in hash_set:\n",
    "        hash_set.remove(s[l])\n",
    "        l+=1\n",
    "\n",
    "    max_len = max(max_len, r-l+1)\n",
    "    hash_set.add(s[r])\n",
    "    r+=1\n",
    "\n",
    "\n",
    "\n",
    "\n",
    "max_len\n"
   ],
   "outputs": [
    {
     "data": {
      "text/plain": [
       "3"
      ]
     },
     "execution_count": 10,
     "metadata": {},
     "output_type": "execute_result"
    }
   ],
   "execution_count": 10
  },
  {
   "metadata": {
    "ExecuteTime": {
     "end_time": "2025-09-14T06:35:49.601245Z",
     "start_time": "2025-09-14T06:35:49.595387Z"
    }
   },
   "cell_type": "code",
   "source": "max_len",
   "id": "1358fbce824abad",
   "outputs": [
    {
     "data": {
      "text/plain": [
       "3"
      ]
     },
     "execution_count": 9,
     "metadata": {},
     "output_type": "execute_result"
    }
   ],
   "execution_count": 9
  },
  {
   "metadata": {},
   "cell_type": "code",
   "outputs": [],
   "execution_count": null,
   "source": "",
   "id": "77e16f353d238214"
  }
 ],
 "metadata": {
  "kernelspec": {
   "display_name": "Python 3",
   "language": "python",
   "name": "python3"
  },
  "language_info": {
   "codemirror_mode": {
    "name": "ipython",
    "version": 2
   },
   "file_extension": ".py",
   "mimetype": "text/x-python",
   "name": "python",
   "nbconvert_exporter": "python",
   "pygments_lexer": "ipython2",
   "version": "2.7.6"
  }
 },
 "nbformat": 4,
 "nbformat_minor": 5
}
